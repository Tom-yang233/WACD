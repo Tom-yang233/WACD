{
 "cells": [
  {
   "cell_type": "markdown",
   "id": "e2d32259-b1ed-4aad-b2c4-8971df553cef",
   "metadata": {},
   "source": [
    "# numpy测试"
   ]
  },
  {
   "cell_type": "code",
   "execution_count": null,
   "id": "11b4b44c-aaf4-4ae8-9e29-4b99f346fa94",
   "metadata": {},
   "outputs": [],
   "source": [
    "import pyaudio\n",
    "import struct\n",
    "import numpy as np\n",
    "import matplotlib.pyplot as plt\n",
    "\n",
    "x = np.linspace(0, 2 * np.pi, 200)\n",
    "y = np.sin(x)\n",
    "\n",
    "fig, ax = plt.subplots()\n",
    "ax.plot(x, y)\n",
    "plt.show()"
   ]
  },
  {
   "cell_type": "markdown",
   "id": "fac1b22d-8a78-469c-8b8a-489ca324d786",
   "metadata": {},
   "source": [
    "# 频谱提取"
   ]
  },
  {
   "cell_type": "code",
   "execution_count": null,
   "id": "ab07d97a-6b20-4c72-8d40-9e06da04846d",
   "metadata": {},
   "outputs": [],
   "source": [
    "import pyaudio\n",
    "import struct\n",
    "import numpy as np\n",
    "import matplotlib.pyplot as plt\n",
    "\n",
    "%matplotlib tk\n",
    "\n",
    "CHUNK = 1024 * 4\n",
    "FORMAT = pyaudio.paInt16\n",
    "CHANNELS = 1\n",
    "RATE = 44100"
   ]
  },
  {
   "cell_type": "markdown",
   "id": "c23de2c3-2707-460a-b297-dc71fada569a",
   "metadata": {},
   "source": [
    "## 单次提取"
   ]
  },
  {
   "cell_type": "code",
   "execution_count": null,
   "id": "1f3329fe-10ae-4e50-9dae-6a9b36bb67c6",
   "metadata": {},
   "outputs": [],
   "source": [
    "p = pyaudio.PyAudio()\n",
    "\n",
    "stream = p.open(\n",
    "    format=FORMAT,\n",
    "    channels=CHANNELS,\n",
    "    rate=RATE,\n",
    "    input=True,\n",
    "    output=True,\n",
    "    frames_per_buffer=CHUNK\n",
    ")\n",
    "\n",
    "data = stream.read(CHUNK)\n",
    "# len(data)\n",
    "data_int = np.array(struct.unpack(str(2 * CHUNK) +'B', data)).astype('uint8')[::2]+127\n",
    "# feel to be like this...\n",
    "fig, ax = plt.subplots() # 创建图形窗口\n",
    "\n",
    "ax.plot(data_int, '-') # 添加对象\n",
    "plt.show() # 显示\n",
    "\n",
    "#first version"
   ]
  },
  {
   "cell_type": "markdown",
   "id": "afd25ca0-0d9b-419b-905f-e6284a94f9eb",
   "metadata": {},
   "source": [
    "## 实时显示"
   ]
  },
  {
   "cell_type": "code",
   "execution_count": null,
   "id": "c4fbc86c-cd21-4087-9abb-1fc615133b32",
   "metadata": {},
   "outputs": [],
   "source": [
    "p = pyaudio.PyAudio()\n",
    "\n",
    "stream = p.open(\n",
    "    format=FORMAT,\n",
    "    channels=CHANNELS,\n",
    "    rate=RATE,\n",
    "    input=True,\n",
    "    output=True,\n",
    "    frames_per_buffer=CHUNK\n",
    ")\n",
    "\n",
    "fig, ax = plt.subplots()\n",
    "x = np.arange(0, 2 * CHUNK, 2)\n",
    "line, = ax.plot(x, np.random.rand(CHUNK))\n",
    "ax.set_ylim(-128,128)\n",
    "ax.set_xlim(0,CHUNK)\n",
    "# 绘图窗口设置\n",
    "\n",
    "while True:\n",
    "    data = stream.read(CHUNK)\n",
    "    data_int = np.array(struct.unpack(str(2 * CHUNK) +'B', data)).astype('b')[::2]\n",
    "    line.set_ydata(data_int)\n",
    "    fig.canvas.draw()\n",
    "    fig.canvas.flush_events()"
   ]
  },
  {
   "cell_type": "markdown",
   "id": "473eb570-7186-42fe-a24f-f2090514d375",
   "metadata": {},
   "source": [
    "# scipy fftpack使用"
   ]
  },
  {
   "cell_type": "code",
   "execution_count": null,
   "id": "ef0838a3-81cd-4e3c-ac71-afe5903d6df7",
   "metadata": {},
   "outputs": [],
   "source": [
    "import numpy as np\n",
    "import matplotlib.pyplot as plt\n",
    "from scipy.fftpack import fft\n",
    "\n",
    "# 生成示例信号\n",
    "fs = 1000 # 采样率\n",
    "t = np.arange(0, 1, 1/fs) #时间数组\n",
    "f = 5 # 信号频率\n",
    "signal = np.sin(2 * np.pi * f * t) #np.sin(是专门用来计算数组的函数)\n",
    "\n",
    "# 进行fft\n",
    "fft_result = fft(signal)\n",
    "\n",
    "# 计算频率轴\n",
    "freq = np.fft.fftfreq(len(fft_result), 1/fs)\n",
    "\n",
    "# 只取正频率部分\n",
    "positive_freq = freq[:len(freq)//2]\n",
    "magnitude_spectrum = np.abs(fft_result[:len(fft_result)//2])\n",
    "\n",
    "# 绘制原始信号和频谱图\n",
    "plt.figure(figsize=(12, 6))\n",
    "\n",
    "plt.subplot(2, 1, 1)\n",
    "plt.plot(t, signal)\n",
    "plt.title('Original Signal')\n",
    "\n",
    "plt.subplot(2, 1, 2)\n",
    "plt.plot(positive_freq, magnitude_spectrum)\n",
    "plt.title('Magnitude Spectrum')\n",
    "\n",
    "plt.tight_layout()\n",
    "plt.show()\n",
    "\n",
    "# 通过使用FFT函数得到的结果，结合np.fft.fftfreq函数提供的频率轴，\n",
    "# 你可以得到一个描述信号在频域上的振幅与频率之间的关系。"
   ]
  },
  {
   "cell_type": "markdown",
   "id": "51ff131e-2393-454d-9f63-775d1c2b4efc",
   "metadata": {},
   "source": [
    "## 示例"
   ]
  },
  {
   "cell_type": "code",
   "execution_count": null,
   "id": "4beed283-2019-49ae-8f2e-41bffa550f80",
   "metadata": {},
   "outputs": [],
   "source": [
    "x = np.arange(0, 2 * CHUNK,2)\n",
    "plt.plot(np.abs(fft(np.sin(2 * x))))"
   ]
  },
  {
   "cell_type": "markdown",
   "id": "2469c846-c97c-4014-be68-19fc2377b126",
   "metadata": {},
   "source": [
    "# 数据实时更新"
   ]
  },
  {
   "cell_type": "code",
   "execution_count": null,
   "id": "de980964-f621-4e11-a411-e807b10669ee",
   "metadata": {},
   "outputs": [],
   "source": [
    "import numpy as np\n",
    "import matplotlib.pyplot as plt\n",
    "\n",
    "# 创建初始数据\n",
    "x = np.linspace(0, 2 * np.pi, 100)\n",
    "y = np.sin(x)\n",
    "\n",
    "# 绘制初始图形\n",
    "fig, ax = plt.subplots()\n",
    "line, = ax.plot(x, y)\n",
    "plt.show(block=False)  # 以非阻塞方式显示图形窗口\n",
    "\n",
    "# 模拟动态更新数据\n",
    "for i in range(100):\n",
    "    # 生成新数据\n",
    "    new_y = np.sin(x + i * 0.1)\n",
    "    \n",
    "    # 更新线的 y 数据\n",
    "    line.set_ydata(new_y)\n",
    "    \n",
    "    # 刷新图形\n",
    "    fig.canvas.draw()\n",
    "    fig.canvas.flush_events()\n"
   ]
  },
  {
   "cell_type": "markdown",
   "id": "3cb60c04-6a12-4d02-a3f3-4bd25d5f5957",
   "metadata": {},
   "source": [
    "# 频谱分析"
   ]
  },
  {
   "cell_type": "code",
   "execution_count": null,
   "id": "b74a0b92-8ad9-43bd-a5e1-09be9841a245",
   "metadata": {},
   "outputs": [],
   "source": [
    "# spectrum!(forier analasys?)"
   ]
  },
  {
   "cell_type": "code",
   "execution_count": 2,
   "id": "009c20c6-5ea2-4f8b-96eb-f9fa5d506445",
   "metadata": {
    "ExecuteTime": {
     "end_time": "2023-12-18T14:13:41.117762900Z",
     "start_time": "2023-12-18T14:13:40.441133900Z"
    }
   },
   "outputs": [],
   "source": [
    "import pyaudio\n",
    "import struct\n",
    "import os\n",
    "import numpy as np\n",
    "import matplotlib.pyplot as plt\n",
    "import time\n",
    "from scipy.fftpack import fft\n",
    "from tkinter import TclError\n",
    "\n",
    "%matplotlib tk\n",
    "\n",
    "CHUNK = 1024 * 2\n",
    "FORMAT = pyaudio.paInt16\n",
    "CHANNELS = 1\n",
    "RATE = 44100"
   ]
  },
  {
   "cell_type": "code",
   "execution_count": null,
   "id": "258155d7-4295-4b1f-a9db-e10b47c0d3da",
   "metadata": {},
   "outputs": [],
   "source": [
    "# create figure and axes\n",
    "fig, (ax, ax2) = plt.subplots(2, figsize=(15,8))\n",
    "\n",
    "p = pyaudio.PyAudio()\n",
    "stream = p.open(\n",
    "    format=FORMAT,\n",
    "    channels=CHANNELS,\n",
    "    rate=RATE,\n",
    "    input=True,\n",
    "    output=True,\n",
    "    frames_per_buffer=CHUNK\n",
    ")\n",
    "\n",
    "# variable for plotting\n",
    "x = np.arange(0, 2 * CHUNK,2)\n",
    "x_fft = np.linspace(0, RATE, CHUNK)\n",
    "# create a line object with random data\n",
    "line, = ax.plot(x, np.random.rand(CHUNK), '-', lw=2)\n",
    "line_fft, = ax2.plot(x_fft, np.random.rand(CHUNK), '-', lw=2)\n",
    "\n",
    "# basic formatting for the axes\n",
    "\n",
    "#show the plot\n",
    "plt.show(block=False)# 不会等待用户关闭图形窗口，继续执行\n",
    "\n",
    "print('stream started')\n",
    "\n",
    "# for measuring frame rate\n",
    "frame_count = 0\n",
    "# start_time = time.time()\n",
    "\n",
    "# loop\n",
    "while True:\n",
    "    data = stream.read(CHUNK)\n",
    "    data_int = struct.unpack(str(2 * CHUNK) +'B', data)\n",
    "    data_np = np.array(data_int).astype('uint8')[::2]+127\n",
    "    \n",
    "    line.set_ydata(data_np)\n",
    "\n",
    "    y_fft = fft(data_int)\n",
    "    line_fft.set_ydata(np.abs(y_fft[0:CHUNK]) * 2 / (256 * CHUNK))\n",
    "\n",
    "    try:\n",
    "        fig.canvas.draw()\n",
    "        fig.canvas.flush_events()\n",
    "        frame_count += 1\n",
    "\n",
    "    except KeyboardInterrupt:\n",
    "        print('Ctrl+C pressed. Exiting...')\n",
    "        stream.stop_stream()\n",
    "        stream.close()\n",
    "        p.terminate()\n",
    "        break"
   ]
  },
  {
   "cell_type": "code",
   "execution_count": null,
   "id": "90198268-05b9-4474-98d9-f002f94943be",
   "metadata": {
    "is_executing": true,
    "ExecuteTime": {
     "start_time": "2023-12-18T14:13:43.419094300Z"
    }
   },
   "outputs": [
    {
     "name": "stdout",
     "output_type": "stream",
     "text": [
      "stream started\n"
     ]
    }
   ],
   "source": [
    "# create matplotlib figure and axes\n",
    "fig, (ax1, ax2) = plt.subplots(2, figsize=(15, 7))\n",
    "\n",
    "# pyaudio class instance\n",
    "p = pyaudio.PyAudio()\n",
    "\n",
    "# stream object to get data from microphone\n",
    "stream = p.open(\n",
    "    format=FORMAT,\n",
    "    channels=CHANNELS,\n",
    "    rate=RATE,\n",
    "    input=True,\n",
    "    output=True,\n",
    "    frames_per_buffer=CHUNK\n",
    ")\n",
    "\n",
    "# variable for plotting\n",
    "x = np.arange(0, 2 * CHUNK, 2)       # samples (waveform)\n",
    "xf = np.linspace(0, RATE, CHUNK)     # frequencies (spectrum)\n",
    "\n",
    "# create a line object with random data\n",
    "line, = ax1.plot(x, np.random.rand(CHUNK), '-', lw=2)\n",
    "\n",
    "# create semilogx line for spectrum\n",
    "line_fft, = ax2.semilogx(xf, np.random.rand(CHUNK), '-', lw=2)\n",
    "\n",
    "# Signal range is -32k to 32k\n",
    "# limiting amplitude to +/- 4k\n",
    "AMPLITUDE_LIMIT = 8096\n",
    "\n",
    "# format waveform axes\n",
    "ax1.set_title('AUDIO WAVEFORM')\n",
    "ax1.set_xlabel('samples')\n",
    "ax1.set_ylabel('volume')\n",
    "ax1.set_ylim(-AMPLITUDE_LIMIT, AMPLITUDE_LIMIT)\n",
    "ax1.set_xlim(0, 2 * CHUNK)\n",
    "plt.setp(ax1, xticks=[0, CHUNK, 2 * CHUNK], yticks=[-AMPLITUDE_LIMIT, 0, AMPLITUDE_LIMIT])\n",
    "\n",
    "# format spectrum axes\n",
    "ax2.set_xlim(20, RATE / 2)\n",
    "\n",
    "print('stream started')\n",
    "\n",
    "# for measuring frame rate\n",
    "frame_count = 0\n",
    "start_time = time.time()\n",
    "\n",
    "while True:\n",
    "    \n",
    "    # binary data\n",
    "    data = stream.read(CHUNK)    \n",
    "\n",
    "    data_np = np.frombuffer(data, dtype='h')\n",
    "    \n",
    "    line.set_ydata(data_np)\n",
    "    \n",
    "    # compute FFT and update line\n",
    "    yf = fft(data_np)\n",
    "    line_fft.set_ydata(np.abs(yf[0:CHUNK])  / (512 * CHUNK))\n",
    "    \n",
    "    # update figure canvas\n",
    "    try:\n",
    "        fig.canvas.draw()\n",
    "        fig.canvas.flush_events()\n",
    "        frame_count += 1\n",
    "        \n",
    "    except TclError:\n",
    "        \n",
    "        # calculate average frame rate\n",
    "        frame_rate = frame_count / (time.time() - start_time)\n",
    "        \n",
    "        print('stream stopped')\n",
    "        print('average frame rate = {:.0f} FPS'.format(frame_rate))\n",
    "        break"
   ]
  },
  {
   "cell_type": "code",
   "execution_count": null,
   "id": "29d64900-0ea5-40aa-aecd-58d94b6c6d2f",
   "metadata": {},
   "outputs": [],
   "source": []
  }
 ],
 "metadata": {
  "kernelspec": {
   "display_name": "Python 3 (ipykernel)",
   "language": "python",
   "name": "python3"
  },
  "language_info": {
   "codemirror_mode": {
    "name": "ipython",
    "version": 3
   },
   "file_extension": ".py",
   "mimetype": "text/x-python",
   "name": "python",
   "nbconvert_exporter": "python",
   "pygments_lexer": "ipython3",
   "version": "3.12.0"
  }
 },
 "nbformat": 4,
 "nbformat_minor": 5
}
