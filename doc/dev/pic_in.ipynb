{
 "cells": [
  {
   "cell_type": "code",
   "execution_count": 1,
   "outputs": [
    {
     "name": "stdout",
     "output_type": "stream",
     "text": [
      "Color Palette:\n",
      "([91, 152, 188]),\n",
      "([39, 99, 128]),\n",
      "([135, 180, 198]),\n",
      "([130, 130, 95]),\n",
      "([255, 255, 254]),\n",
      "([252, 238, 129]),\n",
      "([248, 224, 85]),\n",
      "([244, 200, 76]),\n",
      "([238, 187, 62]),\n",
      "([242, 228, 192]),\n",
      "([235, 175, 50]),\n",
      "([221, 188, 119]),\n",
      "([146, 93, 9]),\n",
      "([212, 148, 42]),\n",
      "([112, 70, 6]),\n",
      "([196, 124, 24]),\n"
     ]
    }
   ],
   "source": [
    "from PIL import Image\n",
    "import numpy as np\n",
    "\n",
    "file_path = 'tt.bmp'\n",
    "# 打开位图文件\n",
    "img = Image.open(file_path)\n",
    "\n",
    "# 获取颜色表\n",
    "color_palette = img.getpalette()\n",
    "\n",
    "# 获取图像数据\n",
    "img_data = np.array(img)\n",
    "\n",
    "color_index_array = np.zeros_like(img_data, dtype=np.uint8)\n",
    "\n",
    "# 遍历图像数据，将颜色映射到颜色表中的颜色索引\n",
    "for i in range(16):\n",
    "    mask = (img_data == i)\n",
    "    color_index_array[mask] = i\n",
    "\n",
    "data=[-1]\n",
    "for i in color_index_array:\n",
    "    for j in i:\n",
    "        data.append(int(j))\n",
    "    data.append(-1)\n",
    "\n",
    "# 输出颜色表\n",
    "print(\"Color Palette:\")\n",
    "for i in range(16):\n",
    "    color_index = i\n",
    "    print(f\"({color_palette[color_index*3:color_index*3+3]}),\")\n",
    "\n",
    "# # 输出每个像素对应的颜色索引\n",
    "# print(\"\\nColor Index Array:\")\n",
    "# print(color_index_array)\n"
   ],
   "metadata": {
    "collapsed": false,
    "ExecuteTime": {
     "end_time": "2023-12-15T07:04:55.667978300Z",
     "start_time": "2023-12-15T07:04:55.576205100Z"
    }
   },
   "id": "e63469ab7611661e"
  },
  {
   "cell_type": "code",
   "execution_count": 38,
   "outputs": [
    {
     "data": {
      "text/plain": "(356, 267)"
     },
     "execution_count": 38,
     "metadata": {},
     "output_type": "execute_result"
    }
   ],
   "source": [
    "color_index_array.shape"
   ],
   "metadata": {
    "collapsed": false,
    "ExecuteTime": {
     "end_time": "2023-11-22T06:24:34.071228Z",
     "start_time": "2023-11-22T06:24:34.052335100Z"
    }
   },
   "id": "404652cdb2e37404"
  },
  {
   "cell_type": "code",
   "execution_count": 44,
   "outputs": [],
   "source": [],
   "metadata": {
    "collapsed": false,
    "ExecuteTime": {
     "end_time": "2023-11-22T06:28:42.583535200Z",
     "start_time": "2023-11-22T06:28:42.506897600Z"
    }
   },
   "id": "8f77021a6f169d2a"
  },
  {
   "cell_type": "code",
   "execution_count": null,
   "outputs": [],
   "source": [],
   "metadata": {
    "collapsed": false
   },
   "id": "cfaea06008f84d78"
  }
 ],
 "metadata": {
  "kernelspec": {
   "display_name": "Python 3",
   "language": "python",
   "name": "python3"
  },
  "language_info": {
   "codemirror_mode": {
    "name": "ipython",
    "version": 2
   },
   "file_extension": ".py",
   "mimetype": "text/x-python",
   "name": "python",
   "nbconvert_exporter": "python",
   "pygments_lexer": "ipython2",
   "version": "2.7.6"
  }
 },
 "nbformat": 4,
 "nbformat_minor": 5
}
