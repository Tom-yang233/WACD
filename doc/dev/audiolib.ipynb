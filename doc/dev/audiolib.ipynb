{
 "cells": [
  {
   "cell_type": "code",
   "execution_count": null,
   "id": "initial_id",
   "metadata": {
    "collapsed": true
   },
   "outputs": [],
   "source": [
    "import pyaudio\n",
    "import numpy as np\n",
    "import time\n",
    "import struct\n",
    "\n",
    "RATE = 176400\n",
    "CHUNK = 20000\n",
    "CHANNELS = 1\n",
    "FORMAT = pyaudio.paInt16\n",
    "AMPLITUDE = 4096"
   ]
  },
  {
   "cell_type": "code",
   "execution_count": null,
   "outputs": [],
   "source": [
    "t = np.arange(0, CHUNK/RATE, 1/RATE)\n",
    "\n",
    "def sin_signal(freq, phi=0):\n",
    "    sig = np.cos(2 * np.pi * (freq * t + phi))*AMPLITUDE\n",
    "    return sig.astype(np.int16)\n",
    "\n",
    "DTMF_1_sig = sin_signal(freq=697)\n",
    "DTMF_2_sig = sin_signal(freq=770)\n",
    "DTMF_3_sig = sin_signal(freq=852)\n",
    "DTMF_4_sig = sin_signal(freq=941)\n",
    "\n",
    "DTMF_A_sig = sin_signal(freq=1209)\n",
    "DTMF_B_sig = sin_signal(freq=1336)\n",
    "DTMF_C_sig = sin_signal(freq=1477)\n",
    "DTMF_D_sig = sin_signal(freq=1633)\n"
   ],
   "metadata": {
    "collapsed": false
   },
   "id": "8692eefabcc318e5"
  },
  {
   "cell_type": "code",
   "execution_count": null,
   "outputs": [],
   "source": [
    "from PIL import Image\n",
    "import numpy as np\n",
    "\n",
    "index = 0\n",
    "pic = [-1]\n",
    "\n",
    "file_path = 't.bmp'\n",
    "# 打开位图文件\n",
    "img = Image.open(file_path)\n",
    "\n",
    "# 获取颜色表\n",
    "color_palette = img.getpalette()\n",
    "\n",
    "# 获取图像数据\n",
    "img_data = np.array(img)\n",
    "\n",
    "color_index_array = np.zeros_like(img_data, dtype=np.uint8)\n",
    "\n",
    "# 遍历图像数据，将颜色映射到颜色表中的颜色索引\n",
    "for i in range(16):\n",
    "    mask = (img_data == i)\n",
    "    color_index_array[mask] = i\n",
    "\n",
    "for i in color_index_array:\n",
    "    for j in i:\n",
    "        pic.append(int(j))\n",
    "    pic.append(-1)"
   ],
   "metadata": {
    "collapsed": false
   },
   "id": "23f8eae69252a3a3"
  },
  {
   "cell_type": "code",
   "execution_count": null,
   "outputs": [],
   "source": [
    "p = pyaudio.PyAudio()\n",
    "\n",
    "def process():\n",
    "    global index\n",
    "    if pic[index]==-1:  out_data = DTMF_1_sig\n",
    "    elif pic[index] == 0:\n",
    "        out_data = DTMF_1_sig + DTMF_A_sig\n",
    "    elif pic[index] == 1:\n",
    "        out_data = DTMF_1_sig + DTMF_B_sig\n",
    "    elif pic[index] == 2:\n",
    "        out_data = DTMF_1_sig + DTMF_C_sig\n",
    "    elif pic[index] == 3:\n",
    "        out_data = DTMF_1_sig + DTMF_D_sig\n",
    "    elif pic[index] == 4:\n",
    "        out_data = DTMF_2_sig + DTMF_A_sig\n",
    "    elif pic[index] == 5:\n",
    "        out_data = DTMF_2_sig + DTMF_B_sig\n",
    "    elif pic[index] == 6:\n",
    "        out_data = DTMF_2_sig + DTMF_C_sig\n",
    "    elif pic[index] == 7:\n",
    "        out_data = DTMF_2_sig + DTMF_D_sig\n",
    "    elif pic[index] == 8:\n",
    "        out_data = DTMF_3_sig + DTMF_A_sig\n",
    "    elif pic[index] == 9:\n",
    "        out_data = DTMF_3_sig + DTMF_B_sig\n",
    "    elif pic[index] == 10:\n",
    "        out_data = DTMF_3_sig + DTMF_C_sig\n",
    "    elif pic[index] == 11:\n",
    "        out_data = DTMF_3_sig + DTMF_D_sig\n",
    "    elif pic[index] == 12:\n",
    "        out_data = DTMF_4_sig + DTMF_A_sig\n",
    "    elif pic[index] == 13:\n",
    "        out_data = DTMF_4_sig + DTMF_B_sig\n",
    "    elif pic[index] == 14:\n",
    "        out_data = DTMF_4_sig + DTMF_C_sig\n",
    "    elif pic[index] == 15:\n",
    "        out_data = DTMF_4_sig + DTMF_D_sig \n",
    "        \n",
    "    if index <= len(pic): \n",
    "        index+=1\n",
    "    else: \n",
    "        index=0\n",
    "    \n",
    "    return out_data\n",
    "\n",
    "def callbackOut(in_data, frame_count, time_info, ststus_flag):\n",
    "    out_data_int = process()\n",
    "\n",
    "    out_data_byte = struct.pack('<'+CHUNK+'h', *out_data_int) \n",
    "    \n",
    "    return out_data_byte, pyaudio.paContinue\n",
    "\n",
    "stream = p.open(format=FORMAT,\n",
    "                channels=CHANNELS,\n",
    "                rate=RATE,\n",
    "                output=True,\n",
    "                frames_per_buffer=CHUNK,\n",
    "                stream_callback=callbackOut)\n",
    "\n",
    "stream.start_stream()\n",
    "\n",
    "while index <= len(pic):\n",
    "    pass    \n",
    "stream.stop_stream()\n",
    "print(\"Stream is stopped\")\n",
    "stream.close()\n",
    "\n",
    "p.terminate()\n"
   ],
   "metadata": {
    "collapsed": false,
    "is_executing": true
   },
   "id": "5ed1b4b3d58b1c6d"
  },
  {
   "cell_type": "code",
   "execution_count": 25,
   "outputs": [],
   "source": [
    "import numpy as np\n",
    "import sounddevice as sd\n",
    "\n",
    "# 设置音频参数\n",
    "sampling_rate = 44100  # 采样率\n",
    "duration = 10  # 持续时间（秒）\n",
    "frequency =600  # 正弦波频率\n",
    "\n",
    "# 生成正弦波\n",
    "t = np.arange(int(sampling_rate * duration)) / float(sampling_rate)\n",
    "waveform = 0.5 * np.sin(2 * np.pi * frequency * t)\n",
    "\n",
    "# 播放音频\n",
    "sd.play(waveform, samplerate=sampling_rate)\n",
    "sd.wait()  # 等待音频播放完成\n"
   ],
   "metadata": {
    "collapsed": false,
    "ExecuteTime": {
     "end_time": "2023-11-27T15:32:15.582156600Z",
     "start_time": "2023-11-27T15:32:05.399416400Z"
    }
   },
   "id": "235f6fe2465ec78a"
  },
  {
   "cell_type": "code",
   "execution_count": null,
   "outputs": [],
   "source": [],
   "metadata": {
    "collapsed": false
   },
   "id": "2ef79df9a1d17c1d"
  },
  {
   "cell_type": "markdown",
   "source": [],
   "metadata": {
    "collapsed": false
   },
   "id": "eb1844dd228144ef"
  }
 ],
 "metadata": {
  "kernelspec": {
   "display_name": "Python 3",
   "language": "python",
   "name": "python3"
  },
  "language_info": {
   "codemirror_mode": {
    "name": "ipython",
    "version": 2
   },
   "file_extension": ".py",
   "mimetype": "text/x-python",
   "name": "python",
   "nbconvert_exporter": "python",
   "pygments_lexer": "ipython2",
   "version": "2.7.6"
  }
 },
 "nbformat": 4,
 "nbformat_minor": 5
}
