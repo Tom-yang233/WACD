{
 "cells": [
  {
   "cell_type": "code",
   "execution_count": 11,
   "id": "initial_id",
   "metadata": {
    "collapsed": true,
    "ExecuteTime": {
     "end_time": "2023-12-05T07:13:47.930051200Z",
     "start_time": "2023-12-05T07:12:03.787776Z"
    }
   },
   "outputs": [
    {
     "name": "stderr",
     "output_type": "stream",
     "text": [
      "C:\\Users\\Tom_yang\\AppData\\Local\\Temp\\ipykernel_13580\\3463576577.py:80: UserWarning: frames=None which we can infer the length of, did not pass an explicit *save_count* and passed cache_frame_data=True.  To avoid a possibly unbounded cache, frame data caching has been disabled. To suppress this warning either pass `cache_frame_data=False` or `save_count=MAX_FRAMES`.\n",
      "  ani = animation.FuncAnimation(fig, update, blit=False, interval=10)\n"
     ]
    },
    {
     "name": "stdout",
     "output_type": "stream",
     "text": [
      "[0, 1, 2, 3, 4, 5, 8]\n",
      "[3, 7, 8]\n",
      "[0, 2, 3, 4, 6, 7, 8]\n",
      "[0, 1, 2, 3, 5, 6, 7, 8]\n",
      "[0, 1, 2, 3, 4, 5, 6, 8]\n",
      "[0, 1, 2, 3, 7, 8]\n",
      "[1, 8]\n",
      "[0, 1, 3, 4, 5, 6, 7, 8]\n",
      "[0, 1, 2, 3, 4, 5, 6, 7, 8]\n",
      "[4, 8]\n"
     ]
    }
   ],
   "source": [
    "import numpy as np\n",
    "import matplotlib.pyplot as plt\n",
    "import matplotlib.animation as animation\n",
    "import pyaudio\n",
    "\n",
    "%matplotlib tk\n",
    "\n",
    "# 设置音频参数\n",
    "FORMAT = pyaudio.paInt16\n",
    "CHANNELS = 1\n",
    "RATE = 48000\n",
    "CHUNK = 4800\n",
    "\n",
    "\n",
    "# 设置要分析的四个特定频率\n",
    "target_frequencies = [697, 770, 852, 941, 1209, 1336, 1477, 1633, 1958]\n",
    "frequency_range = 20  # 频率范围\n",
    "\n",
    "# 计算频率范围的边界\n",
    "frequency_bounds = [(f - frequency_range/2, f + frequency_range/2) for f in target_frequencies]\n",
    "# 创建用于绘图的图表和子图\n",
    "fig, ax = plt.subplots()\n",
    "bars = ax.bar(range(len(target_frequencies)), np.zeros(len(target_frequencies)))\n",
    "\n",
    "# 设置y轴范围\n",
    "ax.set_ylim(4,7)  # 替换为适当的值\n",
    "\n",
    "# 设置x轴刻度和标签\n",
    "ax.set_xticks(range(len(target_frequencies)))\n",
    "ax.set_xticklabels([f\"{freq} Hz\" for freq in target_frequencies])\n",
    "\n",
    "trigger = 0\n",
    "\n",
    "# 初始化音频输入\n",
    "p = pyaudio.PyAudio()\n",
    "stream = p.open(format=FORMAT,\n",
    "                channels=CHANNELS,\n",
    "                rate=RATE,\n",
    "                input=True,\n",
    "                frames_per_buffer=CHUNK)\n",
    "\n",
    "def decode(input):\n",
    "    global trigger\n",
    "    trig_signal = 0\n",
    "    if 8 in input:\n",
    "        trig_signal = 1\n",
    "    if trigger != trig_signal:\n",
    "        print(input)\n",
    "    \n",
    "    \n",
    "# 更新图表的回调函数\n",
    "def update(frame):\n",
    "    try:\n",
    "        # 读取音频数据\n",
    "        data = np.frombuffer(stream.read(CHUNK), dtype=np.int16)\n",
    "        \n",
    "        fft_result = np.fft.fft(data)\n",
    "        frequencies_fft = np.fft.fftfreq(len(fft_result), 1/RATE)\n",
    "        \n",
    "        # 计算特定频率分量的幅度，扩大了频率范围\n",
    "        magnitudes = [np.mean(np.abs(fft_result[(frequencies_fft >= f_low) & (frequencies_fft <= f_high)]))\n",
    "                  for (f_low, f_high) in frequency_bounds]\n",
    "        \n",
    "        result = []\n",
    "        for i in range(len(target_frequencies)): \n",
    "            bar = bars[i]\n",
    "            magnitude = magnitudes[i]\n",
    "            magnitude_log = np.log10(magnitude + 1)  # 加1是为了避免log(0)\n",
    "            bar.set_height(magnitude_log)\n",
    "            if magnitude_log > 5:\n",
    "                result.append(i)\n",
    "        if len(result)!=0:\n",
    "            decode(result)\n",
    "        \n",
    "        return bars\n",
    "    except Exception as e:\n",
    "        print(f\"Error: {e}\")\n",
    "\n",
    "# 设置动画更新间隔\n",
    "ani = animation.FuncAnimation(fig, update, blit=False, interval=10)\n",
    "\n",
    "# 显示图表\n",
    "plt.show(block=True)\n",
    "\n",
    "\n",
    "# 关闭音频流和PyAudio对象\n",
    "stream.stop_stream()\n",
    "stream.close()\n",
    "p.terminate()\n"
   ]
  },
  {
   "cell_type": "code",
   "execution_count": null,
   "outputs": [],
   "source": [],
   "metadata": {
    "collapsed": false
   },
   "id": "b5c1231593d374a5"
  }
 ],
 "metadata": {
  "kernelspec": {
   "display_name": "Python 3",
   "language": "python",
   "name": "python3"
  },
  "language_info": {
   "codemirror_mode": {
    "name": "ipython",
    "version": 2
   },
   "file_extension": ".py",
   "mimetype": "text/x-python",
   "name": "python",
   "nbconvert_exporter": "python",
   "pygments_lexer": "ipython2",
   "version": "2.7.6"
  }
 },
 "nbformat": 4,
 "nbformat_minor": 5
}
